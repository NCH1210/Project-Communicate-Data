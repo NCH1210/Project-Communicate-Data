{
 "cells": [
  {
   "cell_type": "markdown",
   "metadata": {},
   "source": [
    "## 2019 Bay Wheels Ride Data Exploration and Visualization\n",
    "## by Nina Haide\n",
    "\n",
    "## Preliminary Wrangling\n",
    "\n",
    "> Bay Wheels (previously known as Ford GoBike) is a regional public bike sharing system in the San Francisco Bay Area, California. Bay Wheels is the first regional and large-scale bicycle sharing system deployed in California and on the West Coast of the United States. The dataset used for this exploratory analysis consists of monthly individual trip data from January 2019 to December 2019 in CSV format covering the greater San Francisco Bay area."
   ]
  },
  {
   "cell_type": "code",
   "execution_count": 1,
   "metadata": {},
   "outputs": [],
   "source": [
    "# import all packages and set plots to be embedded inline\n",
    "import numpy as np\n",
    "import pandas as pd\n",
    "import matplotlib.pyplot as plt\n",
    "import seaborn as sb\n",
    "import os\n",
    "import glob\n",
    "\n",
    "%matplotlib inline"
   ]
  },
  {
   "cell_type": "markdown",
   "metadata": {},
   "source": [
    "### Gathering and Assessing Data"
   ]
  },
  {
   "cell_type": "code",
   "execution_count": 2,
   "metadata": {},
   "outputs": [
    {
     "name": "stderr",
     "output_type": "stream",
     "text": [
      "C:\\Users\\ninah\\Anaconda3\\lib\\site-packages\\IPython\\core\\interactiveshell.py:3249: DtypeWarning: Columns (14) have mixed types. Specify dtype option on import or set low_memory=False.\n",
      "  if (await self.run_code(code, result,  async_=asy)):\n",
      "C:\\Users\\ninah\\Anaconda3\\lib\\site-packages\\IPython\\core\\interactiveshell.py:3249: DtypeWarning: Columns (13,14) have mixed types. Specify dtype option on import or set low_memory=False.\n",
      "  if (await self.run_code(code, result,  async_=asy)):\n",
      "C:\\Users\\ninah\\Anaconda3\\lib\\site-packages\\ipykernel_launcher.py:5: FutureWarning: Sorting because non-concatenation axis is not aligned. A future version\n",
      "of pandas will change to not sort by default.\n",
      "\n",
      "To accept the future behavior, pass 'sort=False'.\n",
      "\n",
      "To retain the current behavior and silence the warning, pass 'sort=True'.\n",
      "\n",
      "  \"\"\"\n"
     ]
    },
    {
     "name": "stdout",
     "output_type": "stream",
     "text": [
      "(2506983, 15)\n"
     ]
    },
    {
     "data": {
      "text/html": [
       "<div>\n",
       "<style scoped>\n",
       "    .dataframe tbody tr th:only-of-type {\n",
       "        vertical-align: middle;\n",
       "    }\n",
       "\n",
       "    .dataframe tbody tr th {\n",
       "        vertical-align: top;\n",
       "    }\n",
       "\n",
       "    .dataframe thead th {\n",
       "        text-align: right;\n",
       "    }\n",
       "</style>\n",
       "<table border=\"1\" class=\"dataframe\">\n",
       "  <thead>\n",
       "    <tr style=\"text-align: right;\">\n",
       "      <th></th>\n",
       "      <th>bike_id</th>\n",
       "      <th>bike_share_for_all_trip</th>\n",
       "      <th>duration_sec</th>\n",
       "      <th>end_station_id</th>\n",
       "      <th>end_station_latitude</th>\n",
       "      <th>end_station_longitude</th>\n",
       "      <th>end_station_name</th>\n",
       "      <th>end_time</th>\n",
       "      <th>rental_access_method</th>\n",
       "      <th>start_station_id</th>\n",
       "      <th>start_station_latitude</th>\n",
       "      <th>start_station_longitude</th>\n",
       "      <th>start_station_name</th>\n",
       "      <th>start_time</th>\n",
       "      <th>user_type</th>\n",
       "    </tr>\n",
       "  </thead>\n",
       "  <tbody>\n",
       "    <tr>\n",
       "      <td>1333351</td>\n",
       "      <td>3453</td>\n",
       "      <td>No</td>\n",
       "      <td>981</td>\n",
       "      <td>122.0</td>\n",
       "      <td>37.760299</td>\n",
       "      <td>-122.418892</td>\n",
       "      <td>19th St at Mission St</td>\n",
       "      <td>2019-07-15 18:30:14.0510</td>\n",
       "      <td>NaN</td>\n",
       "      <td>345.0</td>\n",
       "      <td>37.766483</td>\n",
       "      <td>-122.398279</td>\n",
       "      <td>Hubbell St at 16th St</td>\n",
       "      <td>2019-07-15 18:13:52.4020</td>\n",
       "      <td>Customer</td>\n",
       "    </tr>\n",
       "    <tr>\n",
       "      <td>1533072</td>\n",
       "      <td>10503</td>\n",
       "      <td>No</td>\n",
       "      <td>1121</td>\n",
       "      <td>443.0</td>\n",
       "      <td>37.320866</td>\n",
       "      <td>-121.876279</td>\n",
       "      <td>3rd St at Keyes St</td>\n",
       "      <td>2019-08-27 17:32:50.0580</td>\n",
       "      <td>NaN</td>\n",
       "      <td>312.0</td>\n",
       "      <td>37.329732</td>\n",
       "      <td>-121.901782</td>\n",
       "      <td>San Jose Diridon Station</td>\n",
       "      <td>2019-08-27 17:14:08.8760</td>\n",
       "      <td>Subscriber</td>\n",
       "    </tr>\n",
       "    <tr>\n",
       "      <td>2050633</td>\n",
       "      <td>9723</td>\n",
       "      <td>No</td>\n",
       "      <td>266</td>\n",
       "      <td>92.0</td>\n",
       "      <td>37.772301</td>\n",
       "      <td>-122.393028</td>\n",
       "      <td>Mission Bay Kids Park</td>\n",
       "      <td>2019-10-16 11:44:13.2410</td>\n",
       "      <td>NaN</td>\n",
       "      <td>50.0</td>\n",
       "      <td>37.780526</td>\n",
       "      <td>-122.390288</td>\n",
       "      <td>2nd St at Townsend St</td>\n",
       "      <td>2019-10-16 11:39:46.9460</td>\n",
       "      <td>Customer</td>\n",
       "    </tr>\n",
       "    <tr>\n",
       "      <td>135777</td>\n",
       "      <td>5447</td>\n",
       "      <td>No</td>\n",
       "      <td>172</td>\n",
       "      <td>64.0</td>\n",
       "      <td>37.776754</td>\n",
       "      <td>-122.399018</td>\n",
       "      <td>5th St at Brannan St</td>\n",
       "      <td>2019-01-11 14:26:41.8060</td>\n",
       "      <td>NaN</td>\n",
       "      <td>66.0</td>\n",
       "      <td>37.778742</td>\n",
       "      <td>-122.392741</td>\n",
       "      <td>3rd St at Townsend St</td>\n",
       "      <td>2019-01-11 14:23:49.1120</td>\n",
       "      <td>Subscriber</td>\n",
       "    </tr>\n",
       "    <tr>\n",
       "      <td>1690480</td>\n",
       "      <td>2050</td>\n",
       "      <td>No</td>\n",
       "      <td>676</td>\n",
       "      <td>30.0</td>\n",
       "      <td>37.776598</td>\n",
       "      <td>-122.395282</td>\n",
       "      <td>San Francisco Caltrain (Townsend St at 4th St)</td>\n",
       "      <td>2019-08-05 07:52:38.3260</td>\n",
       "      <td>NaN</td>\n",
       "      <td>129.0</td>\n",
       "      <td>37.758862</td>\n",
       "      <td>-122.412544</td>\n",
       "      <td>Harrison St at 20th St</td>\n",
       "      <td>2019-08-05 07:41:21.8060</td>\n",
       "      <td>Subscriber</td>\n",
       "    </tr>\n",
       "  </tbody>\n",
       "</table>\n",
       "</div>"
      ],
      "text/plain": [
       "         bike_id bike_share_for_all_trip  duration_sec  end_station_id  \\\n",
       "1333351     3453                      No           981           122.0   \n",
       "1533072    10503                      No          1121           443.0   \n",
       "2050633     9723                      No           266            92.0   \n",
       "135777      5447                      No           172            64.0   \n",
       "1690480     2050                      No           676            30.0   \n",
       "\n",
       "         end_station_latitude  end_station_longitude  \\\n",
       "1333351             37.760299            -122.418892   \n",
       "1533072             37.320866            -121.876279   \n",
       "2050633             37.772301            -122.393028   \n",
       "135777              37.776754            -122.399018   \n",
       "1690480             37.776598            -122.395282   \n",
       "\n",
       "                                       end_station_name  \\\n",
       "1333351                           19th St at Mission St   \n",
       "1533072                              3rd St at Keyes St   \n",
       "2050633                           Mission Bay Kids Park   \n",
       "135777                             5th St at Brannan St   \n",
       "1690480  San Francisco Caltrain (Townsend St at 4th St)   \n",
       "\n",
       "                         end_time rental_access_method  start_station_id  \\\n",
       "1333351  2019-07-15 18:30:14.0510                  NaN             345.0   \n",
       "1533072  2019-08-27 17:32:50.0580                  NaN             312.0   \n",
       "2050633  2019-10-16 11:44:13.2410                  NaN              50.0   \n",
       "135777   2019-01-11 14:26:41.8060                  NaN              66.0   \n",
       "1690480  2019-08-05 07:52:38.3260                  NaN             129.0   \n",
       "\n",
       "         start_station_latitude  start_station_longitude  \\\n",
       "1333351               37.766483              -122.398279   \n",
       "1533072               37.329732              -121.901782   \n",
       "2050633               37.780526              -122.390288   \n",
       "135777                37.778742              -122.392741   \n",
       "1690480               37.758862              -122.412544   \n",
       "\n",
       "               start_station_name                start_time   user_type  \n",
       "1333351     Hubbell St at 16th St  2019-07-15 18:13:52.4020    Customer  \n",
       "1533072  San Jose Diridon Station  2019-08-27 17:14:08.8760  Subscriber  \n",
       "2050633     2nd St at Townsend St  2019-10-16 11:39:46.9460    Customer  \n",
       "135777      3rd St at Townsend St  2019-01-11 14:23:49.1120  Subscriber  \n",
       "1690480    Harrison St at 20th St  2019-08-05 07:41:21.8060  Subscriber  "
      ]
     },
     "execution_count": 2,
     "metadata": {},
     "output_type": "execute_result"
    }
   ],
   "source": [
    "# appending all monthly trip data together\n",
    "\n",
    "folder_name = 'data'\n",
    "frames = [pd.read_csv(f) for f in glob.glob(os.path.join(folder_name, '*.csv'))]\n",
    "result = pd.concat(frames, ignore_index=True)\n",
    "print(result.shape)\n",
    "result.sample(5)"
   ]
  },
  {
   "cell_type": "code",
   "execution_count": 3,
   "metadata": {},
   "outputs": [],
   "source": [
    "# save the appended result to a .csv \n",
    "\n",
    "result.to_csv('fordgobike_trips_2019.csv', index=False)"
   ]
  },
  {
   "cell_type": "code",
   "execution_count": 4,
   "metadata": {
    "scrolled": true
   },
   "outputs": [
    {
     "name": "stderr",
     "output_type": "stream",
     "text": [
      "C:\\Users\\ninah\\Anaconda3\\lib\\site-packages\\IPython\\core\\interactiveshell.py:3058: DtypeWarning: Columns (1,8) have mixed types. Specify dtype option on import or set low_memory=False.\n",
      "  interactivity=interactivity, compiler=compiler, result=result)\n"
     ]
    },
    {
     "data": {
      "text/html": [
       "<div>\n",
       "<style scoped>\n",
       "    .dataframe tbody tr th:only-of-type {\n",
       "        vertical-align: middle;\n",
       "    }\n",
       "\n",
       "    .dataframe tbody tr th {\n",
       "        vertical-align: top;\n",
       "    }\n",
       "\n",
       "    .dataframe thead th {\n",
       "        text-align: right;\n",
       "    }\n",
       "</style>\n",
       "<table border=\"1\" class=\"dataframe\">\n",
       "  <thead>\n",
       "    <tr style=\"text-align: right;\">\n",
       "      <th></th>\n",
       "      <th>bike_id</th>\n",
       "      <th>bike_share_for_all_trip</th>\n",
       "      <th>duration_sec</th>\n",
       "      <th>end_station_id</th>\n",
       "      <th>end_station_latitude</th>\n",
       "      <th>end_station_longitude</th>\n",
       "      <th>end_station_name</th>\n",
       "      <th>end_time</th>\n",
       "      <th>rental_access_method</th>\n",
       "      <th>start_station_id</th>\n",
       "      <th>start_station_latitude</th>\n",
       "      <th>start_station_longitude</th>\n",
       "      <th>start_station_name</th>\n",
       "      <th>start_time</th>\n",
       "      <th>user_type</th>\n",
       "    </tr>\n",
       "  </thead>\n",
       "  <tbody>\n",
       "    <tr>\n",
       "      <td>0</td>\n",
       "      <td>4861</td>\n",
       "      <td>No</td>\n",
       "      <td>80825</td>\n",
       "      <td>196.0</td>\n",
       "      <td>37.808894</td>\n",
       "      <td>-122.256460</td>\n",
       "      <td>Grand Ave at Perkins St</td>\n",
       "      <td>2019-02-01 16:24:49.8640</td>\n",
       "      <td>NaN</td>\n",
       "      <td>229.0</td>\n",
       "      <td>37.775745</td>\n",
       "      <td>-122.213037</td>\n",
       "      <td>Foothill Blvd at 42nd Ave</td>\n",
       "      <td>2019-01-31 17:57:44.6130</td>\n",
       "      <td>Subscriber</td>\n",
       "    </tr>\n",
       "    <tr>\n",
       "      <td>1</td>\n",
       "      <td>5506</td>\n",
       "      <td>No</td>\n",
       "      <td>65900</td>\n",
       "      <td>134.0</td>\n",
       "      <td>37.752428</td>\n",
       "      <td>-122.420628</td>\n",
       "      <td>Valencia St at 24th St</td>\n",
       "      <td>2019-02-01 15:16:54.1730</td>\n",
       "      <td>NaN</td>\n",
       "      <td>4.0</td>\n",
       "      <td>37.785881</td>\n",
       "      <td>-122.408915</td>\n",
       "      <td>Cyril Magnin St at Ellis St</td>\n",
       "      <td>2019-01-31 20:58:33.8860</td>\n",
       "      <td>Subscriber</td>\n",
       "    </tr>\n",
       "    <tr>\n",
       "      <td>2</td>\n",
       "      <td>2717</td>\n",
       "      <td>No</td>\n",
       "      <td>62633</td>\n",
       "      <td>157.0</td>\n",
       "      <td>37.846784</td>\n",
       "      <td>-122.291376</td>\n",
       "      <td>65th St at Hollis St</td>\n",
       "      <td>2019-02-01 11:30:46.5300</td>\n",
       "      <td>NaN</td>\n",
       "      <td>245.0</td>\n",
       "      <td>37.870139</td>\n",
       "      <td>-122.268422</td>\n",
       "      <td>Downtown Berkeley BART</td>\n",
       "      <td>2019-01-31 18:06:52.9240</td>\n",
       "      <td>Customer</td>\n",
       "    </tr>\n",
       "    <tr>\n",
       "      <td>3</td>\n",
       "      <td>4557</td>\n",
       "      <td>No</td>\n",
       "      <td>44680</td>\n",
       "      <td>53.0</td>\n",
       "      <td>37.775946</td>\n",
       "      <td>-122.437777</td>\n",
       "      <td>Grove St at Divisadero</td>\n",
       "      <td>2019-02-01 08:10:50.3180</td>\n",
       "      <td>NaN</td>\n",
       "      <td>85.0</td>\n",
       "      <td>37.770083</td>\n",
       "      <td>-122.429156</td>\n",
       "      <td>Church St at Duboce Ave</td>\n",
       "      <td>2019-01-31 19:46:09.7190</td>\n",
       "      <td>Customer</td>\n",
       "    </tr>\n",
       "    <tr>\n",
       "      <td>4</td>\n",
       "      <td>2100</td>\n",
       "      <td>No</td>\n",
       "      <td>60709</td>\n",
       "      <td>28.0</td>\n",
       "      <td>37.787168</td>\n",
       "      <td>-122.388098</td>\n",
       "      <td>The Embarcadero at Bryant St</td>\n",
       "      <td>2019-02-01 07:10:51.0650</td>\n",
       "      <td>NaN</td>\n",
       "      <td>16.0</td>\n",
       "      <td>37.794130</td>\n",
       "      <td>-122.394430</td>\n",
       "      <td>Steuart St at Market St</td>\n",
       "      <td>2019-01-31 14:19:01.5410</td>\n",
       "      <td>Customer</td>\n",
       "    </tr>\n",
       "  </tbody>\n",
       "</table>\n",
       "</div>"
      ],
      "text/plain": [
       "   bike_id bike_share_for_all_trip  duration_sec  end_station_id  \\\n",
       "0     4861                      No         80825           196.0   \n",
       "1     5506                      No         65900           134.0   \n",
       "2     2717                      No         62633           157.0   \n",
       "3     4557                      No         44680            53.0   \n",
       "4     2100                      No         60709            28.0   \n",
       "\n",
       "   end_station_latitude  end_station_longitude              end_station_name  \\\n",
       "0             37.808894            -122.256460       Grand Ave at Perkins St   \n",
       "1             37.752428            -122.420628        Valencia St at 24th St   \n",
       "2             37.846784            -122.291376          65th St at Hollis St   \n",
       "3             37.775946            -122.437777        Grove St at Divisadero   \n",
       "4             37.787168            -122.388098  The Embarcadero at Bryant St   \n",
       "\n",
       "                   end_time rental_access_method  start_station_id  \\\n",
       "0  2019-02-01 16:24:49.8640                  NaN             229.0   \n",
       "1  2019-02-01 15:16:54.1730                  NaN               4.0   \n",
       "2  2019-02-01 11:30:46.5300                  NaN             245.0   \n",
       "3  2019-02-01 08:10:50.3180                  NaN              85.0   \n",
       "4  2019-02-01 07:10:51.0650                  NaN              16.0   \n",
       "\n",
       "   start_station_latitude  start_station_longitude  \\\n",
       "0               37.775745              -122.213037   \n",
       "1               37.785881              -122.408915   \n",
       "2               37.870139              -122.268422   \n",
       "3               37.770083              -122.429156   \n",
       "4               37.794130              -122.394430   \n",
       "\n",
       "            start_station_name                start_time   user_type  \n",
       "0    Foothill Blvd at 42nd Ave  2019-01-31 17:57:44.6130  Subscriber  \n",
       "1  Cyril Magnin St at Ellis St  2019-01-31 20:58:33.8860  Subscriber  \n",
       "2       Downtown Berkeley BART  2019-01-31 18:06:52.9240    Customer  \n",
       "3      Church St at Duboce Ave  2019-01-31 19:46:09.7190    Customer  \n",
       "4      Steuart St at Market St  2019-01-31 14:19:01.5410    Customer  "
      ]
     },
     "execution_count": 4,
     "metadata": {},
     "output_type": "execute_result"
    }
   ],
   "source": [
    "biketrips19 = pd.read_csv('fordgobike_trips_2019.csv')\n",
    "biketrips19.head()"
   ]
  },
  {
   "cell_type": "code",
   "execution_count": 5,
   "metadata": {},
   "outputs": [
    {
     "data": {
      "text/plain": [
       "<bound method DataFrame.info of          bike_id bike_share_for_all_trip  duration_sec  end_station_id  \\\n",
       "0           4861                      No         80825           196.0   \n",
       "1           5506                      No         65900           134.0   \n",
       "2           2717                      No         62633           157.0   \n",
       "3           4557                      No         44680            53.0   \n",
       "4           2100                      No         60709            28.0   \n",
       "...          ...                     ...           ...             ...   \n",
       "2506978   719651                     NaN           731             NaN   \n",
       "2506979   655411                     NaN           748             NaN   \n",
       "2506980   936881                     NaN          1044             NaN   \n",
       "2506981   397539                     NaN           326             NaN   \n",
       "2506982   662304                     NaN          4023             NaN   \n",
       "\n",
       "         end_station_latitude  end_station_longitude  \\\n",
       "0                   37.808894            -122.256460   \n",
       "1                   37.752428            -122.420628   \n",
       "2                   37.846784            -122.291376   \n",
       "3                   37.775946            -122.437777   \n",
       "4                   37.787168            -122.388098   \n",
       "...                       ...                    ...   \n",
       "2506978             37.807573            -122.421681   \n",
       "2506979             37.807558            -122.421638   \n",
       "2506980             37.807225            -122.408850   \n",
       "2506981             37.803143            -122.414373   \n",
       "2506982             37.810970            -122.418054   \n",
       "\n",
       "                     end_station_name                  end_time  \\\n",
       "0             Grand Ave at Perkins St  2019-02-01 16:24:49.8640   \n",
       "1              Valencia St at 24th St  2019-02-01 15:16:54.1730   \n",
       "2                65th St at Hollis St  2019-02-01 11:30:46.5300   \n",
       "3              Grove St at Divisadero  2019-02-01 08:10:50.3180   \n",
       "4        The Embarcadero at Bryant St  2019-02-01 07:10:51.0650   \n",
       "...                               ...                       ...   \n",
       "2506978                           NaN       2019-12-28 18:49:40   \n",
       "2506979                           NaN       2019-12-28 18:49:53   \n",
       "2506980                           NaN       2019-12-26 14:43:02   \n",
       "2506981                           NaN       2019-12-30 20:41:09   \n",
       "2506982                           NaN       2019-12-31 20:33:52   \n",
       "\n",
       "        rental_access_method  start_station_id  start_station_latitude  \\\n",
       "0                        NaN             229.0               37.775745   \n",
       "1                        NaN               4.0               37.785881   \n",
       "2                        NaN             245.0               37.870139   \n",
       "3                        NaN              85.0               37.770083   \n",
       "4                        NaN              16.0               37.794130   \n",
       "...                      ...               ...                     ...   \n",
       "2506978                  app               NaN               37.809731   \n",
       "2506979                  app               NaN               37.809768   \n",
       "2506980                  app               NaN               37.810183   \n",
       "2506981                  app               NaN               37.810471   \n",
       "2506982                  app               NaN               37.811042   \n",
       "\n",
       "         start_station_longitude           start_station_name  \\\n",
       "0                    -122.213037    Foothill Blvd at 42nd Ave   \n",
       "1                    -122.408915  Cyril Magnin St at Ellis St   \n",
       "2                    -122.268422       Downtown Berkeley BART   \n",
       "3                    -122.429156      Church St at Duboce Ave   \n",
       "4                    -122.394430      Steuart St at Market St   \n",
       "...                          ...                          ...   \n",
       "2506978              -122.409855                          NaN   \n",
       "2506979              -122.409797                          NaN   \n",
       "2506980              -122.410271                          NaN   \n",
       "2506981              -122.417386                          NaN   \n",
       "2506982              -122.418149                          NaN   \n",
       "\n",
       "                       start_time   user_type  \n",
       "0        2019-01-31 17:57:44.6130  Subscriber  \n",
       "1        2019-01-31 20:58:33.8860  Subscriber  \n",
       "2        2019-01-31 18:06:52.9240    Customer  \n",
       "3        2019-01-31 19:46:09.7190    Customer  \n",
       "4        2019-01-31 14:19:01.5410    Customer  \n",
       "...                           ...         ...  \n",
       "2506978       2019-12-28 18:37:29  Subscriber  \n",
       "2506979       2019-12-28 18:37:24  Subscriber  \n",
       "2506980       2019-12-26 14:25:37  Subscriber  \n",
       "2506981       2019-12-30 20:35:43  Subscriber  \n",
       "2506982       2019-12-31 19:26:48  Subscriber  \n",
       "\n",
       "[2506983 rows x 15 columns]>"
      ]
     },
     "execution_count": 5,
     "metadata": {},
     "output_type": "execute_result"
    }
   ],
   "source": [
    "biketrips19.info"
   ]
  },
  {
   "cell_type": "code",
   "execution_count": 7,
   "metadata": {},
   "outputs": [
    {
     "data": {
      "text/plain": [
       "bike_id                          0\n",
       "bike_share_for_all_trip     120838\n",
       "duration_sec                     0\n",
       "end_station_id               82902\n",
       "end_station_latitude             0\n",
       "end_station_longitude            0\n",
       "end_station_name             82350\n",
       "end_time                         0\n",
       "rental_access_method       2386145\n",
       "start_station_id             80734\n",
       "start_station_latitude           0\n",
       "start_station_longitude          0\n",
       "start_station_name           80133\n",
       "start_time                       0\n",
       "user_type                        0\n",
       "dtype: int64"
      ]
     },
     "execution_count": 7,
     "metadata": {},
     "output_type": "execute_result"
    }
   ],
   "source": [
    "biketrips19.isnull().sum()"
   ]
  },
  {
   "cell_type": "code",
   "execution_count": 8,
   "metadata": {},
   "outputs": [
    {
     "data": {
      "text/plain": [
       "0"
      ]
     },
     "execution_count": 8,
     "metadata": {},
     "output_type": "execute_result"
    }
   ],
   "source": [
    "biketrips19.duplicated().sum()"
   ]
  },
  {
   "cell_type": "code",
   "execution_count": 10,
   "metadata": {},
   "outputs": [
    {
     "data": {
      "text/plain": [
       "Subscriber    2021166\n",
       "Customer       485817\n",
       "Name: user_type, dtype: int64"
      ]
     },
     "execution_count": 10,
     "metadata": {},
     "output_type": "execute_result"
    }
   ],
   "source": [
    "biketrips19.user_type.value_counts()"
   ]
  },
  {
   "cell_type": "code",
   "execution_count": 11,
   "metadata": {},
   "outputs": [
    {
     "data": {
      "text/plain": [
       "No     2203584\n",
       "Yes     182561\n",
       "Name: bike_share_for_all_trip, dtype: int64"
      ]
     },
     "execution_count": 11,
     "metadata": {},
     "output_type": "execute_result"
    }
   ],
   "source": [
    "biketrips19.bike_share_for_all_trip.value_counts()"
   ]
  },
  {
   "cell_type": "code",
   "execution_count": 13,
   "metadata": {},
   "outputs": [
    {
     "data": {
      "text/plain": [
       "app        108010\n",
       "clipper     12828\n",
       "Name: rental_access_method, dtype: int64"
      ]
     },
     "execution_count": 13,
     "metadata": {},
     "output_type": "execute_result"
    }
   ],
   "source": [
    "biketrips19.rental_access_method.value_counts()"
   ]
  },
  {
   "cell_type": "markdown",
   "metadata": {},
   "source": [
    "### Cleaning "
   ]
  },
  {
   "cell_type": "code",
   "execution_count": 14,
   "metadata": {},
   "outputs": [
    {
     "name": "stdout",
     "output_type": "stream",
     "text": [
      "<class 'pandas.core.frame.DataFrame'>\n",
      "RangeIndex: 2506983 entries, 0 to 2506982\n",
      "Data columns (total 15 columns):\n",
      "bike_id                    2506983 non-null object\n",
      "bike_share_for_all_trip    2386145 non-null category\n",
      "duration_sec               2506983 non-null int64\n",
      "end_station_id             2506983 non-null object\n",
      "end_station_latitude       2506983 non-null float64\n",
      "end_station_longitude      2506983 non-null float64\n",
      "end_station_name           2424633 non-null object\n",
      "end_time                   2506983 non-null datetime64[ns]\n",
      "rental_access_method       120838 non-null category\n",
      "start_station_id           2506983 non-null object\n",
      "start_station_latitude     2506983 non-null float64\n",
      "start_station_longitude    2506983 non-null float64\n",
      "start_station_name         2426850 non-null object\n",
      "start_time                 2506983 non-null datetime64[ns]\n",
      "user_type                  2506983 non-null category\n",
      "dtypes: category(3), datetime64[ns](2), float64(4), int64(1), object(5)\n",
      "memory usage: 236.7+ MB\n"
     ]
    }
   ],
   "source": [
    "# copy of the dataframe \n",
    "# issue 1: fix multiple fields that are not in the correct dtype\n",
    "\n",
    "trips19 = biketrips19.copy()\n",
    "trips19['start_time'] = pd.to_datetime(trips19['start_time'])\n",
    "trips19['end_time'] = pd.to_datetime(trips19['end_time'])\n",
    "\n",
    "trips19['start_station_id'] = trips19['start_station_id'].astype('str')\n",
    "trips19['end_station_id'] = trips19['end_station_id'].astype('str')\n",
    "trips19['bike_id'] = trips19['bike_id'].astype('str')\n",
    "\n",
    "trips19['user_type'] = trips19['user_type'].astype('category')\n",
    "trips19['bike_share_for_all_trip'] = trips19['bike_share_for_all_trip'].astype('category')\n",
    "trips19['rental_access_method'] = trips19['rental_access_method'].astype('category')\n",
    "\n",
    "trips19.info(null_counts=True)"
   ]
  },
  {
   "cell_type": "code",
   "execution_count": 15,
   "metadata": {},
   "outputs": [
    {
     "data": {
      "text/html": [
       "<div>\n",
       "<style scoped>\n",
       "    .dataframe tbody tr th:only-of-type {\n",
       "        vertical-align: middle;\n",
       "    }\n",
       "\n",
       "    .dataframe tbody tr th {\n",
       "        vertical-align: top;\n",
       "    }\n",
       "\n",
       "    .dataframe thead th {\n",
       "        text-align: right;\n",
       "    }\n",
       "</style>\n",
       "<table border=\"1\" class=\"dataframe\">\n",
       "  <thead>\n",
       "    <tr style=\"text-align: right;\">\n",
       "      <th></th>\n",
       "      <th>bike_id</th>\n",
       "      <th>bike_share_for_all_trip</th>\n",
       "      <th>duration_sec</th>\n",
       "      <th>end_station_id</th>\n",
       "      <th>end_station_latitude</th>\n",
       "      <th>end_station_longitude</th>\n",
       "      <th>end_station_name</th>\n",
       "      <th>end_time</th>\n",
       "      <th>rental_access_method</th>\n",
       "      <th>start_station_id</th>\n",
       "      <th>start_station_latitude</th>\n",
       "      <th>start_station_longitude</th>\n",
       "      <th>start_station_name</th>\n",
       "      <th>start_time</th>\n",
       "      <th>user_type</th>\n",
       "      <th>duration_minute</th>\n",
       "      <th>start_date</th>\n",
       "      <th>start_hourofday</th>\n",
       "      <th>start_dayofweek</th>\n",
       "      <th>start_month</th>\n",
       "    </tr>\n",
       "  </thead>\n",
       "  <tbody>\n",
       "    <tr>\n",
       "      <td>0</td>\n",
       "      <td>4861</td>\n",
       "      <td>No</td>\n",
       "      <td>80825</td>\n",
       "      <td>196.0</td>\n",
       "      <td>37.808894</td>\n",
       "      <td>-122.256460</td>\n",
       "      <td>Grand Ave at Perkins St</td>\n",
       "      <td>2019-02-01 16:24:49.864</td>\n",
       "      <td>NaN</td>\n",
       "      <td>229.0</td>\n",
       "      <td>37.775745</td>\n",
       "      <td>-122.213037</td>\n",
       "      <td>Foothill Blvd at 42nd Ave</td>\n",
       "      <td>2019-01-31 17:57:44.613</td>\n",
       "      <td>Subscriber</td>\n",
       "      <td>1347.083333</td>\n",
       "      <td>2019-01-31</td>\n",
       "      <td>17</td>\n",
       "      <td>Thursday</td>\n",
       "      <td>January</td>\n",
       "    </tr>\n",
       "    <tr>\n",
       "      <td>1</td>\n",
       "      <td>5506</td>\n",
       "      <td>No</td>\n",
       "      <td>65900</td>\n",
       "      <td>134.0</td>\n",
       "      <td>37.752428</td>\n",
       "      <td>-122.420628</td>\n",
       "      <td>Valencia St at 24th St</td>\n",
       "      <td>2019-02-01 15:16:54.173</td>\n",
       "      <td>NaN</td>\n",
       "      <td>4.0</td>\n",
       "      <td>37.785881</td>\n",
       "      <td>-122.408915</td>\n",
       "      <td>Cyril Magnin St at Ellis St</td>\n",
       "      <td>2019-01-31 20:58:33.886</td>\n",
       "      <td>Subscriber</td>\n",
       "      <td>1098.333333</td>\n",
       "      <td>2019-01-31</td>\n",
       "      <td>20</td>\n",
       "      <td>Thursday</td>\n",
       "      <td>January</td>\n",
       "    </tr>\n",
       "    <tr>\n",
       "      <td>2</td>\n",
       "      <td>2717</td>\n",
       "      <td>No</td>\n",
       "      <td>62633</td>\n",
       "      <td>157.0</td>\n",
       "      <td>37.846784</td>\n",
       "      <td>-122.291376</td>\n",
       "      <td>65th St at Hollis St</td>\n",
       "      <td>2019-02-01 11:30:46.530</td>\n",
       "      <td>NaN</td>\n",
       "      <td>245.0</td>\n",
       "      <td>37.870139</td>\n",
       "      <td>-122.268422</td>\n",
       "      <td>Downtown Berkeley BART</td>\n",
       "      <td>2019-01-31 18:06:52.924</td>\n",
       "      <td>Customer</td>\n",
       "      <td>1043.883333</td>\n",
       "      <td>2019-01-31</td>\n",
       "      <td>18</td>\n",
       "      <td>Thursday</td>\n",
       "      <td>January</td>\n",
       "    </tr>\n",
       "    <tr>\n",
       "      <td>3</td>\n",
       "      <td>4557</td>\n",
       "      <td>No</td>\n",
       "      <td>44680</td>\n",
       "      <td>53.0</td>\n",
       "      <td>37.775946</td>\n",
       "      <td>-122.437777</td>\n",
       "      <td>Grove St at Divisadero</td>\n",
       "      <td>2019-02-01 08:10:50.318</td>\n",
       "      <td>NaN</td>\n",
       "      <td>85.0</td>\n",
       "      <td>37.770083</td>\n",
       "      <td>-122.429156</td>\n",
       "      <td>Church St at Duboce Ave</td>\n",
       "      <td>2019-01-31 19:46:09.719</td>\n",
       "      <td>Customer</td>\n",
       "      <td>744.666667</td>\n",
       "      <td>2019-01-31</td>\n",
       "      <td>19</td>\n",
       "      <td>Thursday</td>\n",
       "      <td>January</td>\n",
       "    </tr>\n",
       "    <tr>\n",
       "      <td>4</td>\n",
       "      <td>2100</td>\n",
       "      <td>No</td>\n",
       "      <td>60709</td>\n",
       "      <td>28.0</td>\n",
       "      <td>37.787168</td>\n",
       "      <td>-122.388098</td>\n",
       "      <td>The Embarcadero at Bryant St</td>\n",
       "      <td>2019-02-01 07:10:51.065</td>\n",
       "      <td>NaN</td>\n",
       "      <td>16.0</td>\n",
       "      <td>37.794130</td>\n",
       "      <td>-122.394430</td>\n",
       "      <td>Steuart St at Market St</td>\n",
       "      <td>2019-01-31 14:19:01.541</td>\n",
       "      <td>Customer</td>\n",
       "      <td>1011.816667</td>\n",
       "      <td>2019-01-31</td>\n",
       "      <td>14</td>\n",
       "      <td>Thursday</td>\n",
       "      <td>January</td>\n",
       "    </tr>\n",
       "  </tbody>\n",
       "</table>\n",
       "</div>"
      ],
      "text/plain": [
       "  bike_id bike_share_for_all_trip  duration_sec end_station_id  \\\n",
       "0    4861                      No         80825          196.0   \n",
       "1    5506                      No         65900          134.0   \n",
       "2    2717                      No         62633          157.0   \n",
       "3    4557                      No         44680           53.0   \n",
       "4    2100                      No         60709           28.0   \n",
       "\n",
       "   end_station_latitude  end_station_longitude              end_station_name  \\\n",
       "0             37.808894            -122.256460       Grand Ave at Perkins St   \n",
       "1             37.752428            -122.420628        Valencia St at 24th St   \n",
       "2             37.846784            -122.291376          65th St at Hollis St   \n",
       "3             37.775946            -122.437777        Grove St at Divisadero   \n",
       "4             37.787168            -122.388098  The Embarcadero at Bryant St   \n",
       "\n",
       "                 end_time rental_access_method start_station_id  \\\n",
       "0 2019-02-01 16:24:49.864                  NaN            229.0   \n",
       "1 2019-02-01 15:16:54.173                  NaN              4.0   \n",
       "2 2019-02-01 11:30:46.530                  NaN            245.0   \n",
       "3 2019-02-01 08:10:50.318                  NaN             85.0   \n",
       "4 2019-02-01 07:10:51.065                  NaN             16.0   \n",
       "\n",
       "   start_station_latitude  start_station_longitude  \\\n",
       "0               37.775745              -122.213037   \n",
       "1               37.785881              -122.408915   \n",
       "2               37.870139              -122.268422   \n",
       "3               37.770083              -122.429156   \n",
       "4               37.794130              -122.394430   \n",
       "\n",
       "            start_station_name              start_time   user_type  \\\n",
       "0    Foothill Blvd at 42nd Ave 2019-01-31 17:57:44.613  Subscriber   \n",
       "1  Cyril Magnin St at Ellis St 2019-01-31 20:58:33.886  Subscriber   \n",
       "2       Downtown Berkeley BART 2019-01-31 18:06:52.924    Customer   \n",
       "3      Church St at Duboce Ave 2019-01-31 19:46:09.719    Customer   \n",
       "4      Steuart St at Market St 2019-01-31 14:19:01.541    Customer   \n",
       "\n",
       "   duration_minute  start_date start_hourofday start_dayofweek start_month  \n",
       "0      1347.083333  2019-01-31              17        Thursday     January  \n",
       "1      1098.333333  2019-01-31              20        Thursday     January  \n",
       "2      1043.883333  2019-01-31              18        Thursday     January  \n",
       "3       744.666667  2019-01-31              19        Thursday     January  \n",
       "4      1011.816667  2019-01-31              14        Thursday     January  "
      ]
     },
     "execution_count": 15,
     "metadata": {},
     "output_type": "execute_result"
    }
   ],
   "source": [
    "# issue 2: add new columns for trip duration in minute, trip start date in yyyy-mm-dd format, trip start hour of the day, day of week and month\n",
    "\n",
    "trips19['duration_minute'] = trips19['duration_sec']/60\n",
    "\n",
    "trips19['start_date'] = trips19.start_time.dt.strftime('%Y-%m-%d')\n",
    "trips19['start_hourofday'] = trips19.start_time.dt.strftime('%H')\n",
    "trips19['start_dayofweek'] = trips19.start_time.dt.strftime('%A')\n",
    "trips19['start_month'] = trips19.start_time.dt.strftime('%B')\n",
    "\n",
    "trips19.head()"
   ]
  },
  {
   "cell_type": "code",
   "execution_count": 17,
   "metadata": {},
   "outputs": [],
   "source": [
    "# issue 3: Add columns for the difference in latitude and longitude\n",
    "\n",
    "trips19['latitude_diff'] = trips19['start_station_latitude'] - trips19['end_station_latitude']\n",
    "\n",
    "trips19['longitude_diff'] = trips19['start_station_longitude'] - trips19['end_station_longitude']"
   ]
  },
  {
   "cell_type": "code",
   "execution_count": 19,
   "metadata": {},
   "outputs": [
    {
     "data": {
      "text/html": [
       "<div>\n",
       "<style scoped>\n",
       "    .dataframe tbody tr th:only-of-type {\n",
       "        vertical-align: middle;\n",
       "    }\n",
       "\n",
       "    .dataframe tbody tr th {\n",
       "        vertical-align: top;\n",
       "    }\n",
       "\n",
       "    .dataframe thead th {\n",
       "        text-align: right;\n",
       "    }\n",
       "</style>\n",
       "<table border=\"1\" class=\"dataframe\">\n",
       "  <thead>\n",
       "    <tr style=\"text-align: right;\">\n",
       "      <th></th>\n",
       "      <th>latitude_diff</th>\n",
       "      <th>longitude_diff</th>\n",
       "    </tr>\n",
       "  </thead>\n",
       "  <tbody>\n",
       "    <tr>\n",
       "      <td>0</td>\n",
       "      <td>-0.033149</td>\n",
       "      <td>0.043423</td>\n",
       "    </tr>\n",
       "    <tr>\n",
       "      <td>1</td>\n",
       "      <td>0.033453</td>\n",
       "      <td>0.011713</td>\n",
       "    </tr>\n",
       "    <tr>\n",
       "      <td>2</td>\n",
       "      <td>0.023355</td>\n",
       "      <td>0.022954</td>\n",
       "    </tr>\n",
       "    <tr>\n",
       "      <td>3</td>\n",
       "      <td>-0.005863</td>\n",
       "      <td>0.008622</td>\n",
       "    </tr>\n",
       "    <tr>\n",
       "      <td>4</td>\n",
       "      <td>0.006962</td>\n",
       "      <td>-0.006332</td>\n",
       "    </tr>\n",
       "  </tbody>\n",
       "</table>\n",
       "</div>"
      ],
      "text/plain": [
       "   latitude_diff  longitude_diff\n",
       "0      -0.033149        0.043423\n",
       "1       0.033453        0.011713\n",
       "2       0.023355        0.022954\n",
       "3      -0.005863        0.008622\n",
       "4       0.006962       -0.006332"
      ]
     },
     "execution_count": 19,
     "metadata": {},
     "output_type": "execute_result"
    }
   ],
   "source": [
    "trips19.head()[['latitude_diff', 'longitude_diff']]"
   ]
  },
  {
   "cell_type": "markdown",
   "metadata": {},
   "source": [
    "### What is the structure of your dataset?\n",
    "\n",
    "> The original combined data contains approximately 2,506,982 individual trip records with 16 variables collected. The variables can be divided into 3 major categories:\n",
    "trip duration: duration_sec, start_time, end_time\n",
    "station info: start_station_id, start_station_name, start_station_latitude, start_station_longitude, end_station_id, end_station_name, end_station_latitude, end_station_longitude\n",
    "user info (anonymized): bike_id, user_type, bike_share_for_all_trip\n",
    "Derived features/variables to assist exploration and analysis:\n",
    "trip info: duration_minute, start_date, start_hourofday, start_dayofweek, start_month\n",
    "user: user_type\n",
    "\n",
    "### What is/are the main feature(s) of interest in your dataset?\n",
    "\n",
    "> I'm most interested in exploring the bike trips' duration and rental events occurrance patterns, along with how these related to the user type to get a sense of what people are using the bike sharing service for. Sample questions to answer: When are most trips taken in terms of time of day, day of the week, or month of the year? How long does the average trip take? Does the above depend on if a user is a subscriber or customer?\n",
    "\n",
    "### What features in the dataset do you think will help support your investigation into your feature(s) of interest?\n",
    "\n",
    "> Each trip's start date/time and duration information will help understanding how long a trip usually takes and when. The user typewill help us find out who is the main target customer group, use the different groups to summarize bike usage data to see if there is any special pattern associated with a specific group of riders."
   ]
  },
  {
   "cell_type": "markdown",
   "metadata": {},
   "source": [
    "## Univariate Exploration\n",
    "\n",
    ">  A series of plots to first explore the trips distribution over hour-of-day, day-of-week and month."
   ]
  },
  {
   "cell_type": "code",
   "execution_count": 25,
   "metadata": {},
   "outputs": [
    {
     "data": {
      "image/png": "[encoded data removed]",
      "text/plain": [
       "<Figure size 576x432 with 1 Axes>"
      ]
     },
     "metadata": {},
     "output_type": "display_data"
    }
   ],
   "source": [
    "# trip distribution over day hours\n",
    "\n",
    "plt.rcParams['figure.figsize'] = 8, 6\n",
    "base_color = sb.color_palette('colorblind')[0]\n",
    "sb.set_style('darkgrid')\n",
    "\n",
    "sb.countplot(data=trips19, x='start_hourofday', color=base_color);\n",
    "plt.xlabel('Trip Start Hour of Day');\n",
    "plt.ylabel('Count');"
   ]
  },
  {
   "cell_type": "code",
   "execution_count": 27,
   "metadata": {},
   "outputs": [
    {
     "data": {
      "image/png": "[encoded data removed]",
      "text/plain": [
       "<Figure size 576x432 with 1 Axes>"
      ]
     },
     "metadata": {},
     "output_type": "display_data"
    }
   ],
   "source": [
    "# trip distribution over weekdays\n",
    "# issue 4: cast 'start_dayofweek' to category dtype\n",
    "\n",
    "weekday = ['Monday', 'Tuesday', 'Wednesday', 'Thursday', 'Friday', 'Saturday', 'Sunday']\n",
    "weekdaycat = pd.api.types.CategoricalDtype(ordered=True, categories=weekday)\n",
    "trips19['start_dayofweek'] = trips19['start_dayofweek'].astype(weekdaycat)\n",
    "\n",
    "sb.countplot(data=trips19, x='start_dayofweek', color=base_color);\n",
    "plt.xlabel('Trip Start Day of Week');\n",
    "plt.ylabel('Count');"
   ]
  },
  {
   "cell_type": "code",
   "execution_count": 29,
   "metadata": {},
   "outputs": [
    {
     "data": {
      "image/png": "[encoded data removed]",
      "text/plain": [
       "<Figure size 576x432 with 1 Axes>"
      ]
     },
     "metadata": {},
     "output_type": "display_data"
    }
   ],
   "source": [
    "# trip distribution over months\n",
    "# issue 5: cast 'start_month' to category dtype for easy plotting\n",
    "\n",
    "month = ['January', 'February', 'March', 'April', 'May', 'June', 'July', 'August', 'September', 'October', 'November', 'December']\n",
    "monthcat = pd.api.types.CategoricalDtype(ordered=True, categories=month)\n",
    "trips19['start_month'] = trips19['start_month'].astype(monthcat)\n",
    "\n",
    "sb.countplot(data=trips19, x='start_month', color=base_color);\n",
    "plt.xticks(rotation=30);\n",
    "plt.xlabel('Trip Start Month');\n",
    "plt.ylabel('Count');"
   ]
  },
  {
   "cell_type": "code",
   "execution_count": 30,
   "metadata": {},
   "outputs": [
    {
     "data": {
      "image/png": "[encoded data removed]",
      "text/plain": [
       "<Figure size 576x432 with 1 Axes>"
      ]
     },
     "metadata": {},
     "output_type": "display_data"
    }
   ],
   "source": [
    "month = ['March', 'July']\n",
    "monthcat = pd.api.types.CategoricalDtype(ordered=True, categories=month)\n",
    "trips19['start_month'] = trips19['start_month'].astype(monthcat)\n",
    "\n",
    "sb.countplot(data=trips19, x='start_month', color=base_color);\n",
    "plt.xticks(rotation=30);\n",
    "plt.xlabel('Trip Start Month');\n",
    "plt.ylabel('Count');"
   ]
  },
  {
   "cell_type": "markdown",
   "metadata": {},
   "source": [
    "\n",
    "The trip distribution over day hours peaks around two timeframes, 8am-9am and 17pm-18pm, during typical rush hours. Looking in combined with the trip distribution over day of week plot, it is quite obvious that the majority of rides happened on work days (Mon-Fri) and primary usage is probably for commuting. In the 12 months in 2019, March and July had the most ride trips compared to the others, specifically July was the busiest month after closer inspection, which could be related to holiday season.\n",
    "\n",
    "The next several plots are around members/users to see what makes up of the riders."
   ]
  },
  {
   "cell_type": "code",
   "execution_count": 32,
   "metadata": {},
   "outputs": [
    {
     "data": {
      "image/png": "[encoded data removed]",
      "text/plain": [
       "<Figure size 576x432 with 1 Axes>"
      ]
     },
     "metadata": {},
     "output_type": "display_data"
    }
   ],
   "source": [
    "sb.countplot(data=trips19, x='user_type', color=base_color);\n",
    "plt.xlabel('User Type');\n",
    "plt.ylabel('Count');"
   ]
  },
  {
   "cell_type": "code",
   "execution_count": 33,
   "metadata": {},
   "outputs": [
    {
     "data": {
      "image/png": "[encoded data removed]",
      "text/plain": [
       "<Figure size 576x432 with 1 Axes>"
      ]
     },
     "metadata": {},
     "output_type": "display_data"
    }
   ],
   "source": [
    "sb.countplot(data=trips19, x='bike_share_for_all_trip', color=base_color);\n",
    "plt.xlabel('Bike Share for All Trip');\n",
    "plt.ylabel('Count');"
   ]
  },
  {
   "cell_type": "markdown",
   "metadata": {},
   "source": [
    "Most riders were subscribers who did not use bike share for the whole trip. As per the trip distribution plots that most trips were on Mon-Fri and maxed during rush hours of a day.\n",
    "\n",
    "Trip duration distribution to plot next."
   ]
  },
  {
   "cell_type": "code",
   "execution_count": 34,
   "metadata": {},
   "outputs": [
    {
     "data": {
      "image/png": "[encoded data removed]",
      "text/plain": [
       "<Figure size 576x432 with 1 Axes>"
      ]
     },
     "metadata": {},
     "output_type": "display_data"
    }
   ],
   "source": [
    "plt.hist(data=trips19, x='duration_minute');\n",
    "plt.xlabel('Trip Duration in Minute');"
   ]
  },
  {
   "cell_type": "markdown",
   "metadata": {},
   "source": [
    "It was a little surprising to see the duration distribution spans pretty far to the right (indicates a long time rental, almost 24 hrs) while the majority of the rides were quite short (within 200 mins). Going to zoom in to the most cases for a closer picture of what the distribution is like."
   ]
  },
  {
   "cell_type": "code",
   "execution_count": 35,
   "metadata": {},
   "outputs": [
    {
     "data": {
      "text/plain": [
       "count    2.506983e+06\n",
       "mean     1.346081e+01\n",
       "std      3.291190e+01\n",
       "min      1.000000e+00\n",
       "50%      9.516667e+00\n",
       "99%      6.876667e+01\n",
       "max      1.520183e+04\n",
       "Name: duration_minute, dtype: float64"
      ]
     },
     "execution_count": 35,
     "metadata": {},
     "output_type": "execute_result"
    }
   ],
   "source": [
    "trips19['duration_minute'].describe(percentiles=[.99])"
   ]
  },
  {
   "cell_type": "code",
   "execution_count": 36,
   "metadata": {},
   "outputs": [
    {
     "data": {
      "image/png": "[encoded data removed]",
      "text/plain": [
       "<Figure size 576x432 with 1 Axes>"
      ]
     },
     "metadata": {},
     "output_type": "display_data"
    }
   ],
   "source": [
    "bins = np.arange(0, 66, 1)\n",
    "ticks = np.arange(0, 66, 5)\n",
    "plt.hist(data=trips19, x='duration_minute', bins=bins);\n",
    "plt.xticks(ticks, ticks);\n",
    "plt.xlabel('Trip Duration in minutes');"
   ]
  },
  {
   "cell_type": "markdown",
   "metadata": {},
   "source": [
    "It looks like 99% of the trips were less than 1 hour long with most of them fell between 5 to 10 minutes range. I'll remove the outlier long trips for this study to allow focusing on the most common cases to explore the pattern."
   ]
  },
  {
   "cell_type": "code",
   "execution_count": 37,
   "metadata": {},
   "outputs": [
    {
     "name": "stdout",
     "output_type": "stream",
     "text": [
      "<class 'pandas.core.frame.DataFrame'>\n",
      "Int64Index: 2480401 entries, 6 to 2506981\n",
      "Data columns (total 22 columns):\n",
      "bike_id                    2480401 non-null object\n",
      "bike_share_for_all_trip    2361079 non-null category\n",
      "duration_sec               2480401 non-null int64\n",
      "end_station_id             2480401 non-null object\n",
      "end_station_latitude       2480401 non-null float64\n",
      "end_station_longitude      2480401 non-null float64\n",
      "end_station_name           2399384 non-null object\n",
      "end_time                   2480401 non-null datetime64[ns]\n",
      "rental_access_method       119322 non-null category\n",
      "start_station_id           2480401 non-null object\n",
      "start_station_latitude     2480401 non-null float64\n",
      "start_station_longitude    2480401 non-null float64\n",
      "start_station_name         2401440 non-null object\n",
      "start_time                 2480401 non-null datetime64[ns]\n",
      "user_type                  2480401 non-null category\n",
      "duration_minute            2480401 non-null float64\n",
      "start_date                 2480401 non-null object\n",
      "start_hourofday            2480401 non-null object\n",
      "start_dayofweek            2480401 non-null category\n",
      "start_month                507916 non-null category\n",
      "latitude_diff              2480401 non-null float64\n",
      "longitude_diff             2480401 non-null float64\n",
      "dtypes: category(5), datetime64[ns](2), float64(7), int64(1), object(7)\n",
      "memory usage: 352.5+ MB\n"
     ]
    }
   ],
   "source": [
    "# issue 6: filter out outlier trip records where the duration was very long\n",
    "\n",
    "trips19 = trips19.query('duration_minute <= 66')\n",
    "trips19.info(null_counts=True)"
   ]
  },
  {
   "cell_type": "code",
   "execution_count": null,
   "metadata": {},
   "outputs": [],
   "source": []
  },
  {
   "cell_type": "markdown",
   "metadata": {},
   "source": [
    "### Discuss the distribution(s) of your variable(s) of interest. Were there any unusual points? Did you need to perform any transformations?\n",
    "\n",
    "> The number of trips peaked around 8-9am and 17-18pm during a day, there were more trips on work days (Mon-Fri) compared to weekends. In summer time in July was the most popular month of a year, likely due to holidays and weather.\n",
    "User-wise, there were most of them subscribers compared to casual riders. The majority of the members did not use bike share for all of the trip.\n",
    "Most rides were quick and short, lasted between 5 to 10 minutes.\n",
    "No transformation was needed luckily due to the straightforwardness of the data.\n",
    "\n",
    "### Of the features you investigated, were there any unusual distributions? Did you perform any operations on the data to tidy, adjust, or change the form of the data? If so, why did you do this?\n",
    "\n",
    "> The distribution of the trip duration was a little surprising at first plotting out the original data. Used .describe() and xticks() to zoom in to a smaller range where most trip records fell, which made the distribution much clearer. In order to help focusing on the main cases of typical use of the system, I filtered out the outlier long trip records for the study with .query()."
   ]
  },
  {
   "cell_type": "code",
   "execution_count": 38,
   "metadata": {},
   "outputs": [],
   "source": [
    "# save the clean data to a .csv file\n",
    "\n",
    "trips19.to_csv('fordgobike_trips_2019_clean.csv', index=False)"
   ]
  },
  {
   "cell_type": "markdown",
   "metadata": {},
   "source": [
    "## Bivariate Exploration\n",
    "\n",
    "> How does the trip duration distribution vary between customers and subscribers?"
   ]
  },
  {
   "cell_type": "code",
   "execution_count": 40,
   "metadata": {},
   "outputs": [
    {
     "data": {
      "image/png": "[encoded data removed]",
      "text/plain": [
       "<Figure size 576x432 with 1 Axes>"
      ]
     },
     "metadata": {},
     "output_type": "display_data"
    }
   ],
   "source": [
    "sb.violinplot(data=trips19, x='user_type', y='duration_minute', color=base_color, inner='quartile');\n",
    "plt.xlabel('User Type');\n",
    "plt.ylabel('Trip Duration in minutes');"
   ]
  },
  {
   "cell_type": "markdown",
   "metadata": {},
   "source": [
    "The trip duration distribution is much narrower for subscribers compared to casual riders on the shorter/quicker trip end overall. It seems like subscribers have a more specific usage or targeted goal riding the bikes compared to customers who vary more and generally rented the bikes for longer."
   ]
  },
  {
   "cell_type": "markdown",
   "metadata": {},
   "source": [
    "**Average Trip Duration on Weekdays**"
   ]
  },
  {
   "cell_type": "code",
   "execution_count": 42,
   "metadata": {},
   "outputs": [
    {
     "data": {
      "image/png": "[encoded data removed]",
      "text/plain": [
       "<Figure size 576x432 with 1 Axes>"
      ]
     },
     "metadata": {},
     "output_type": "display_data"
    }
   ],
   "source": [
    "sb.barplot(data=trips19, x='start_dayofweek', y='duration_minute', color=base_color);\n",
    "plt.xlabel('Day of Week');\n",
    "plt.ylabel('Avg. Trip Duration in Minute');"
   ]
  },
  {
   "cell_type": "markdown",
   "metadata": {},
   "source": [
    "The riding trips are much shorter on Monday through Friday compared to weekends. It indicates a pretty stable and efficient usage of the sharing system on normal work days, while more casual flexible use on weekends."
   ]
  },
  {
   "cell_type": "markdown",
   "metadata": {},
   "source": [
    "**Weekly usage between customers and subscribers**"
   ]
  },
  {
   "cell_type": "code",
   "execution_count": 45,
   "metadata": {},
   "outputs": [
    {
     "data": {
      "image/png": "[encoded data removed]",
      "text/plain": [
       "<Figure size 576x432 with 1 Axes>"
      ]
     },
     "metadata": {},
     "output_type": "display_data"
    }
   ],
   "source": [
    "sb.countplot(data=trips19, x='start_dayofweek', hue='user_type');\n",
    "plt.xlabel('Day of Week');\n",
    "plt.ylabel('Count');"
   ]
  },
  {
   "cell_type": "markdown",
   "metadata": {},
   "source": [
    "There was much more subscriber usage than casual customers overall. The drop of volume on weekends for subscribers indicates that they primarily ride bikes for work commute during work days, whereas almost the opposite pattern of a slight increase of use for customers on weekends demonstrates that the use was more for leisure/touring and relaxing purposes.\n",
    "\n",
    "**Daily usage between customers and subscribers**"
   ]
  },
  {
   "cell_type": "code",
   "execution_count": 46,
   "metadata": {},
   "outputs": [
    {
     "data": {
      "image/png": "[encoded data removed]",
      "text/plain": [
       "<Figure size 576x432 with 1 Axes>"
      ]
     },
     "metadata": {},
     "output_type": "display_data"
    }
   ],
   "source": [
    "sb.countplot(data=trips19, x='start_hourofday', hue='user_type');\n",
    "plt.xlabel('Hour of Day');\n",
    "plt.ylabel('Count');"
   ]
  },
  {
   "cell_type": "markdown",
   "metadata": {},
   "source": [
    "Subscriber usage clearly peaks out on typical rush hours when people go to work in the morning and getting off work in the afternoon, double confirmed their usage purpose and goal of riding. Similar pattern was not observed among customers who tend to ride most in the afternoon or early evening as for a different purpose than the subscriber riders."
   ]
  },
  {
   "cell_type": "code",
   "execution_count": null,
   "metadata": {},
   "outputs": [],
   "source": []
  },
  {
   "cell_type": "code",
   "execution_count": null,
   "metadata": {},
   "outputs": [],
   "source": []
  },
  {
   "cell_type": "markdown",
   "metadata": {},
   "source": [
    "### Talk about some of the relationships you observed in this part of the investigation. How did the feature(s) of interest vary with other features in the dataset?\n",
    "\n",
    "> There are a lot more subscriber usage than customers. The riding habit/pattern varies a lot between subscribers and customers. Subscribers use the bike sharing system for work commnute thus most trips were on work days (Mon-Fri) and especially during rush hours (when going to work in the morning and getting off work in the afternoon), whereas customers tend to ride for fun in the afternoon or early evenings over weekends. Customer users tend to take longer rides overall especially during the summer.\n",
    "\n",
    "### Did you observe any interesting relationships between the other features (not the main feature(s) of interest)?\n",
    "\n",
    "> On weekdays the average trip duration is longer than during the weekend maybe because people tend to have more time."
   ]
  },
  {
   "cell_type": "markdown",
   "metadata": {},
   "source": [
    "## Multivariate Exploration\n",
    "\n",
    "> How does the average trip duration vary in weekdays between customers and subscribers?"
   ]
  },
  {
   "cell_type": "code",
   "execution_count": 49,
   "metadata": {},
   "outputs": [
    {
     "data": {
      "image/png": "[encoded data removed]",
      "text/plain": [
       "<Figure size 576x432 with 1 Axes>"
      ]
     },
     "metadata": {},
     "output_type": "display_data"
    }
   ],
   "source": [
    "sb.pointplot(data=trips19, x='start_dayofweek', y='duration_minute', hue='user_type', dodge=0.3, linestyles=\"\");\n",
    "plt.xlabel('Day of Week');\n",
    "plt.ylabel('Avg. Trip Duration in Minute');"
   ]
  },
  {
   "cell_type": "markdown",
   "metadata": {},
   "source": [
    "It can be seen from the above plot that subscribers ride much shorter/quicker trips compared to customers on each day of the week. Both user types have an obvious increase of trip duration on Saturdays and Sundays over weekends, especially for casual riders. Subscribers usage seems to be more efficient than customers overall and maintained a very consistent average duration Monday through Friday.\n",
    "\n",
    "**How does the hourly usage vary during weekdays for customers and subscribers?**"
   ]
  },
  {
   "cell_type": "code",
   "execution_count": 50,
   "metadata": {},
   "outputs": [
    {
     "data": {
      "image/png": "[encoded data removed]",
      "text/plain": [
       "<Figure size 576x432 with 4 Axes>"
      ]
     },
     "metadata": {},
     "output_type": "display_data"
    }
   ],
   "source": [
    "plt.suptitle('Hourly Usage during Weekdays for Customers and Subscribers')\n",
    "\n",
    "plt.subplot(2, 1, 1)\n",
    "customers = trips19.query('user_type == \"Customer\"')\n",
    "ct_counts = customers.groupby(['start_dayofweek', 'start_hourofday']).size()\n",
    "ct_counts = ct_counts.reset_index(name='count')\n",
    "ct_counts = ct_counts.pivot(index='start_dayofweek', columns='start_hourofday', values='count')\n",
    "sb.heatmap(ct_counts, cmap='rocket_r');\n",
    "plt.title('Customer', loc='right');\n",
    "plt.xlabel('Hour of Day');\n",
    "plt.ylabel('Day of Week');\n",
    "\n",
    "plt.subplot(2, 1, 2)\n",
    "subscribers = trips19.query('user_type == \"Subscriber\"')\n",
    "st_counts = subscribers.groupby(['start_dayofweek', 'start_hourofday']).size()\n",
    "st_counts = st_counts.reset_index(name='count')\n",
    "st_counts = st_counts.pivot(index='start_dayofweek', columns='start_hourofday', values='count')\n",
    "sb.heatmap(st_counts, cmap='rocket_r');\n",
    "plt.title('Subscriber', loc='right');\n",
    "plt.xlabel('Hour of Day');\n",
    "plt.ylabel('Day of Week');"
   ]
  },
  {
   "cell_type": "markdown",
   "metadata": {},
   "source": [
    "The heatmaps shows clearly very different usage pattern/habit between the two type of riders. Subscribers use the system heavily on work days i.e. Monday through Friday whereas customers ride a lot on weekends, especially in the afternoon. Many trips concentrated around 8-9am and 17-18pm on work days for subscribers when used for work commute, yet customers tend to use more in the late afternoon around 17pm Monday to Friday. Other than usage purpose and habit, it may also have to do with the traffic situation around these rush hours in the area."
   ]
  },
  {
   "cell_type": "markdown",
   "metadata": {},
   "source": [
    "### Talk about some of the relationships you observed in this part of the investigation. Were there features that strengthened each other in terms of looking at your feature(s) of interest?\n",
    "\n",
    "> The multivariate exploration strengthened some of the patterns discovered in the previous bivariate exploration as well as univariate exploration, the relationship between the multiple variables plotted are visualized altogether and information are presented combined. The efficient/short period of usage for subscribers corresponds to their high concentration on rush hours Monday through Friday, indicating the use is primarily for work commute. The more relaxing and flexible pattern of customer use shows that they're taking advantage of the bike sharing system quite differently from the subscribers, heavily over weekends and in the afternoon, for city tour or leisure purpose probably.\n",
    "\n",
    "### Were there any interesting or surprising interactions between features?\n",
    "\n",
    "> The interactions between features are all supplementing each other and quite make sense when looked at combined, there's no big surprise observed."
   ]
  }
 ],
 "metadata": {
  "kernelspec": {
   "display_name": "Python 3",
   "language": "python",
   "name": "python3"
  },
  "language_info": {
   "codemirror_mode": {
    "name": "ipython",
    "version": 3
   },
   "file_extension": ".py",
   "mimetype": "text/x-python",
   "name": "python",
   "nbconvert_exporter": "python",
   "pygments_lexer": "ipython3",
   "version": "3.7.4"
  }
 },
 "nbformat": 4,
 "nbformat_minor": 2
}
